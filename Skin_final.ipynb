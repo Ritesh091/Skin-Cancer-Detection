{
 "cells": [
  {
   "cell_type": "code",
   "execution_count": 28,
   "metadata": {},
   "outputs": [],
   "source": [
    "from keras.models import Sequential\n",
    "from keras.layers import Conv2D\n",
    "from keras.layers import MaxPooling2D\n",
    "from keras.layers import Flatten\n",
    "from keras.layers import Dense\n",
    "from keras.layers import Dropout\n",
    "from keras.preprocessing.image import ImageDataGenerator\n",
    "import numpy as np\n",
    "from IPython.display import display\n",
    "from PIL import Image\n",
    "from keras.preprocessing import image\n",
    "import os\n",
    "from sklearn.model_selection import StratifiedKFold\n",
    "import os  \n",
    "from tqdm import tqdm\n",
    "import pandas as pd\n",
    "import cv2\n",
    "from sklearn.model_selection import train_test_split\n",
    "from sklearn.metrics import accuracy_score\n",
    "from sklearn.metrics import confusion_matrix\n",
    "from sklearn.metrics import cohen_kappa_score\n",
    "from sklearn.metrics import roc_auc_score\n",
    "from sklearn.metrics import f1_score\n",
    "from keras.models import load_model"
   ]
  },
  {
   "cell_type": "code",
   "execution_count": 17,
   "metadata": {},
   "outputs": [],
   "source": [
    "def create_model():\n",
    "    # Initialising the CNN\n",
    "    model = Sequential()\n",
    "\n",
    "    # Convolution\n",
    "    model.add(Conv2D(32, (3, 3), input_shape = (224, 224, 3), activation = 'relu'))\n",
    "\n",
    "    # Pooling\n",
    "    model.add(MaxPooling2D(pool_size = (2, 2)))\n",
    "\n",
    "    # Second convolutional layer\n",
    "    model.add(Conv2D(32, (3, 3), activation = 'relu'))\n",
    "    model.add(MaxPooling2D(pool_size = (2, 2)))\n",
    "\n",
    "    # Third convolution layer\n",
    "    model.add(Conv2D(32, (3, 3), activation = 'relu'))\n",
    "    model.add(MaxPooling2D(pool_size = (2, 2)))\n",
    "\n",
    "    # Flattening\n",
    "    model.add(Flatten())\n",
    "\n",
    "    # Full connection\n",
    "    model.add(Dense(units = 64, activation = 'relu'))\n",
    "    model.add(Dense(units = 2, activation = 'softmax'))\n",
    "\n",
    "    # Compiling the CNN\n",
    "    model.compile(optimizer = 'adam', loss = 'binary_crossentropy', metrics = ['accuracy'])\n",
    "    \n",
    "    return model"
   ]
  },
  {
   "cell_type": "code",
   "execution_count": 18,
   "metadata": {},
   "outputs": [],
   "source": [
    "folder_path ='/home/riteshjain/anaconda3/Notebook/Skin/training_data1/train/Benign'\n",
    "images = []\n",
    "labels = []\n",
    "for img in os.listdir(folder_path):\n",
    "    label = 0\n",
    "    img = cv2.imread(folder_path+'/'+img, cv2.COLOR_BGR2RGB)\n",
    "    img = cv2.resize(img, (224,224))\n",
    "    images.append(img)\n",
    "    labels.append(label)"
   ]
  },
  {
   "cell_type": "code",
   "execution_count": 19,
   "metadata": {},
   "outputs": [],
   "source": [
    "folder_path ='/home/riteshjain/anaconda3/Notebook/Skin/training_data1/train/Malignant'\n",
    "images1 = []\n",
    "labels1 = []\n",
    "for img in os.listdir(folder_path):\n",
    "    label1 = 1\n",
    "    img = cv2.imread(folder_path+'/'+img, cv2.COLOR_BGR2RGB)\n",
    "    img = cv2.resize(img, (224,224))\n",
    "    images1.append(img)\n",
    "    labels1.append(label1)"
   ]
  },
  {
   "cell_type": "code",
   "execution_count": 20,
   "metadata": {},
   "outputs": [],
   "source": [
    "images2 = np.concatenate([images, images1])\n",
    "labels2 = np.concatenate([labels, labels1])"
   ]
  },
  {
   "cell_type": "code",
   "execution_count": 21,
   "metadata": {},
   "outputs": [],
   "source": [
    "images3 = images2.astype(np.int)\n",
    "labels3 = labels2.astype(np.int)"
   ]
  },
  {
   "cell_type": "code",
   "execution_count": 29,
   "metadata": {},
   "outputs": [],
   "source": [
    "df_y = pd.factorize(labels3)[0] "
   ]
  },
  {
   "cell_type": "code",
   "execution_count": 37,
   "metadata": {},
   "outputs": [],
   "source": [
    "n_values = np.max(df_y) + 1"
   ]
  },
  {
   "cell_type": "code",
   "execution_count": 39,
   "metadata": {},
   "outputs": [],
   "source": [
    "lab = np.eye(n_values)[df_y]"
   ]
  },
  {
   "cell_type": "code",
   "execution_count": 41,
   "metadata": {},
   "outputs": [],
   "source": [
    "train_x, val_x, train_y, val_y = train_test_split(images3, lab, test_size=0.1)"
   ]
  },
  {
   "cell_type": "code",
   "execution_count": 42,
   "metadata": {},
   "outputs": [],
   "source": [
    "model = create_model()\n",
    "\n",
    "train_datagen = ImageDataGenerator(rescale = 1./255, shear_range = 0.2, zoom_range = 0.2, horizontal_flip = True)\n",
    "training_set = train_datagen.flow(x = train_x, y = train_y, batch_size = 32)\n",
    "\n",
    "validation_datagen = ImageDataGenerator(rescale = 1./255)\n",
    "validation_set = validation_datagen.flow(x = val_x, y = val_y, batch_size = 32)"
   ]
  },
  {
   "cell_type": "code",
   "execution_count": 43,
   "metadata": {},
   "outputs": [
    {
     "name": "stdout",
     "output_type": "stream",
     "text": [
      "Epoch 1/10\n",
      "43/43 [==============================] - 50s 1s/step - loss: 0.7235 - acc: 0.5574 - val_loss: 0.6146 - val_acc: 0.7105\n",
      "Epoch 2/10\n",
      "43/43 [==============================] - 47s 1s/step - loss: 0.5734 - acc: 0.6902 - val_loss: 0.5310 - val_acc: 0.6776\n",
      "Epoch 3/10\n",
      "43/43 [==============================] - 53s 1s/step - loss: 0.5007 - acc: 0.7439 - val_loss: 0.4897 - val_acc: 0.7697\n",
      "Epoch 4/10\n",
      "43/43 [==============================] - 51s 1s/step - loss: 0.4711 - acc: 0.7621 - val_loss: 0.4441 - val_acc: 0.7434\n",
      "Epoch 5/10\n",
      "43/43 [==============================] - 49s 1s/step - loss: 0.4572 - acc: 0.7631 - val_loss: 0.4521 - val_acc: 0.7434\n",
      "Epoch 6/10\n",
      "43/43 [==============================] - 51s 1s/step - loss: 0.4268 - acc: 0.7929 - val_loss: 0.4429 - val_acc: 0.7500\n",
      "Epoch 7/10\n",
      "43/43 [==============================] - 49s 1s/step - loss: 0.4071 - acc: 0.8026 - val_loss: 0.4735 - val_acc: 0.7500\n",
      "Epoch 8/10\n",
      "43/43 [==============================] - 49s 1s/step - loss: 0.4173 - acc: 0.7982 - val_loss: 0.4226 - val_acc: 0.7763\n",
      "Epoch 9/10\n",
      "43/43 [==============================] - 47s 1s/step - loss: 0.4114 - acc: 0.8011 - val_loss: 0.5386 - val_acc: 0.6447\n",
      "Epoch 10/10\n",
      "43/43 [==============================] - 47s 1s/step - loss: 0.4438 - acc: 0.7665 - val_loss: 0.4565 - val_acc: 0.7303\n"
     ]
    },
    {
     "data": {
      "text/plain": [
       "<keras.callbacks.History at 0x7f1389794668>"
      ]
     },
     "execution_count": 43,
     "metadata": {},
     "output_type": "execute_result"
    }
   ],
   "source": [
    "model.fit_generator(training_set, steps_per_epoch = len(training_set), epochs = 10, validation_data= validation_set,\n",
    "                validation_steps = len(validation_set))"
   ]
  },
  {
   "cell_type": "code",
   "execution_count": 52,
   "metadata": {},
   "outputs": [],
   "source": [
    "im = cv2.imread('/home/riteshjain/Downloads/ISIC_0034301.jpg', cv2.COLOR_BGR2RGB)\n",
    "im = cv2.resize(im, (224,224))"
   ]
  },
  {
   "cell_type": "code",
   "execution_count": 53,
   "metadata": {},
   "outputs": [],
   "source": [
    "im = np.expand_dims(im, axis=0)"
   ]
  },
  {
   "cell_type": "code",
   "execution_count": 55,
   "metadata": {},
   "outputs": [
    {
     "data": {
      "text/plain": [
       "array([[0., 1.]], dtype=float32)"
      ]
     },
     "execution_count": 55,
     "metadata": {},
     "output_type": "execute_result"
    }
   ],
   "source": [
    "model.predict(im)"
   ]
  },
  {
   "cell_type": "code",
   "execution_count": null,
   "metadata": {},
   "outputs": [],
   "source": []
  },
  {
   "cell_type": "code",
   "execution_count": null,
   "metadata": {},
   "outputs": [],
   "source": []
  },
  {
   "cell_type": "code",
   "execution_count": null,
   "metadata": {},
   "outputs": [],
   "source": []
  },
  {
   "cell_type": "code",
   "execution_count": null,
   "metadata": {},
   "outputs": [],
   "source": []
  },
  {
   "cell_type": "code",
   "execution_count": 11,
   "metadata": {},
   "outputs": [],
   "source": [
    "model.save('/home/riteshjain/anaconda3/Notebook/skin_model/my_model.h5')"
   ]
  }
 ],
 "metadata": {
  "kernelspec": {
   "display_name": "Python 3",
   "language": "python",
   "name": "python3"
  },
  "language_info": {
   "codemirror_mode": {
    "name": "ipython",
    "version": 3
   },
   "file_extension": ".py",
   "mimetype": "text/x-python",
   "name": "python",
   "nbconvert_exporter": "python",
   "pygments_lexer": "ipython3",
   "version": "3.6.8"
  }
 },
 "nbformat": 4,
 "nbformat_minor": 2
}
